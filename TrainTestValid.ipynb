{
  "nbformat": 4,
  "nbformat_minor": 0,
  "metadata": {
    "colab": {
      "provenance": [],
      "machine_shape": "hm",
      "gpuType": "T4",
      "mount_file_id": "1anmD2r3aj9q8FvZQOw7u6i_Lt2WrkyAh",
      "authorship_tag": "ABX9TyMe2yaV3jyb/EGkUq1jXGpd",
      "include_colab_link": true
    },
    "kernelspec": {
      "name": "python3",
      "display_name": "Python 3"
    },
    "language_info": {
      "name": "python"
    },
    "accelerator": "GPU"
  },
  "cells": [
    {
      "cell_type": "markdown",
      "metadata": {
        "id": "view-in-github",
        "colab_type": "text"
      },
      "source": [
        "<a href=\"https://colab.research.google.com/github/xcarslan/cerenonetelent23/blob/main/TrainTestValid.ipynb\" target=\"_parent\"><img src=\"https://colab.research.google.com/assets/colab-badge.svg\" alt=\"Open In Colab\"/></a>"
      ]
    },
    {
      "cell_type": "code",
      "execution_count": 2,
      "metadata": {
        "id": "4MVWPqEsuQRf"
      },
      "outputs": [],
      "source": [
        "import matplotlib.pyplot as plt\n",
        "from tensorflow.keras.models import Model\n",
        "from tensorflow.keras.layers import GlobalAveragePooling2D, Dense\n",
        "from tensorflow.keras.applications import vgg16\n",
        "from tensorflow.keras.optimizers import Adam, SGD\n",
        "import scipy  #Used to upsample our image\n",
        "import glob\n",
        "import os\n",
        "from PIL import Image\n",
        "\n",
        "\n",
        "\n",
        "import numpy as np\n",
        "import glob\n",
        "from sklearn.metrics import confusion_matrix , accuracy_score\n",
        "import cv2\n",
        "from sklearn.model_selection import train_test_split\n",
        "from sklearn.preprocessing import StandardScaler\n",
        "from numpy.linalg import eigh"
      ]
    },
    {
      "cell_type": "code",
      "source": [
        "dataset = []  #Many ways to handle data, you can use pandas. Here, we are using a list format.\n",
        "label = []  #Placeholders to define add labels. We will add 1 to all parasitized images and 0 to uninfected."
      ],
      "metadata": {
        "id": "4ApjwDGzuTy2"
      },
      "execution_count": 3,
      "outputs": []
    },
    {
      "cell_type": "code",
      "source": [
        "path = '/content/drive/MyDrive/Multiple Sclerosis/Control-Axial/*'\n",
        "for f in glob.iglob(path):\n",
        "    img1=cv2.imread(f)\n",
        "    img1 = Image.fromarray(img1, 'RGB')\n",
        "    img1 = img1.resize((224, 224))\n",
        "    dataset.append(np.array(img1))\n",
        "    label.append(0)"
      ],
      "metadata": {
        "id": "7xaKAHC_ubbM"
      },
      "execution_count": 4,
      "outputs": []
    },
    {
      "cell_type": "code",
      "source": [
        "path = '/content/drive/MyDrive/Multiple Sclerosis/Control-Sagittal/*'\n",
        "for f in glob.iglob(path):\n",
        "    img3=cv2.imread(f)\n",
        "    img3 = Image.fromarray(img3, 'RGB')\n",
        "    img3 = img3.resize((224, 224))\n",
        "    dataset.append(np.array(img3))\n",
        "    label.append(2)"
      ],
      "metadata": {
        "id": "8XAyUJVDudqo"
      },
      "execution_count": 5,
      "outputs": []
    },
    {
      "cell_type": "code",
      "source": [
        "path = '/content/drive/MyDrive/Multiple Sclerosis/MS-Sagittal/*'\n",
        "for f in glob.iglob(path):\n",
        "    img4=cv2.imread(f)\n",
        "    img4 = Image.fromarray(img4, 'RGB')\n",
        "    img4 = img4.resize((224, 224))\n",
        "    dataset.append(np.array(img4))\n",
        "    label.append(3)"
      ],
      "metadata": {
        "id": "qEU1jN_juf3B"
      },
      "execution_count": 6,
      "outputs": []
    },
    {
      "cell_type": "code",
      "source": [
        "path = '/content/drive/MyDrive/Multiple Sclerosis/MS-Axial/*'\n",
        "for f in glob.iglob(path):\n",
        "    img2=cv2.imread(f)\n",
        "    img2 = Image.fromarray(img2, 'RGB')\n",
        "    img2 = img2.resize((224, 224))\n",
        "    dataset.append(np.array(img2))\n",
        "    label.append(1)"
      ],
      "metadata": {
        "id": "26vYx32vuijp"
      },
      "execution_count": 7,
      "outputs": []
    },
    {
      "cell_type": "code",
      "source": [
        "len(dataset)"
      ],
      "metadata": {
        "colab": {
          "base_uri": "https://localhost:8080/"
        },
        "id": "VP7ib5moulBP",
        "outputId": "e5b47a58-49a3-434c-bb26-4a2b67e5229d"
      },
      "execution_count": 8,
      "outputs": [
        {
          "output_type": "execute_result",
          "data": {
            "text/plain": [
              "3427"
            ]
          },
          "metadata": {},
          "execution_count": 8
        }
      ]
    },
    {
      "cell_type": "code",
      "source": [
        "dataset = np.array(dataset)\n",
        "label = np.array(label)"
      ],
      "metadata": {
        "id": "MfZm6cw8upcy"
      },
      "execution_count": 9,
      "outputs": []
    },
    {
      "cell_type": "code",
      "source": [
        "import os\n",
        "from sklearn.model_selection import train_test_split\n",
        "from tensorflow.keras.utils import to_categorical\n",
        "import shutil\n",
        "\n",
        "# Veri setini eğitim, doğrulama ve test setlerine ayırma\n",
        "X_train, X_temp, y_train, y_temp = train_test_split(dataset, label, test_size=0.40, random_state=0)\n",
        "X_val, X_test, y_val, y_test = train_test_split(X_temp, y_temp, test_size=0.50, random_state=0)\n",
        "\n",
        "# Normalizasyon ve one-hot encoding\n",
        "X_train, X_val, X_test = X_train / 255.0, X_val / 255.0, X_test / 255.0\n",
        "y_train, y_val, y_test = to_categorical(y_train), to_categorical(y_val), to_categorical(y_test)\n",
        "\n",
        "# Klasörleri oluşturma\n",
        "base_dir = '/content/drive/MyDrive/MS-DENEME'\n",
        "if not os.path.exists(base_dir):\n",
        "    os.mkdir(base_dir)\n",
        "\n",
        "for folder in ['train', 'val', 'test']:\n",
        "    folder_path = os.path.join(base_dir, folder)\n",
        "    if not os.path.exists(folder_path):\n",
        "        os.mkdir(folder_path)\n",
        "    for sub_folder in np.unique(label):\n",
        "        sub_folder_path = os.path.join(folder_path, str(sub_folder))\n",
        "        if not os.path.exists(sub_folder_path):\n",
        "            os.mkdir(sub_folder_path)\n",
        "\n",
        "# Görüntüleri ilgili klasörlere kaydetme\n",
        "def save_images(images, labels, base_folder):\n",
        "    for i, (img, label) in enumerate(zip(images, labels)):\n",
        "        folder = os.path.join(base_folder, str(np.argmax(label)))\n",
        "        img_path = os.path.join(folder, f'image_{i}.png')\n",
        "        img = (img * 255).astype(np.uint8)\n",
        "        im = Image.fromarray(img)\n",
        "        im.save(img_path)\n",
        "\n",
        "# Eğitim, doğrulama ve test setlerini kaydet\n",
        "save_images(X_train, y_train, os.path.join(base_dir, 'train'))\n",
        "save_images(X_val, y_val, os.path.join(base_dir, 'val'))\n",
        "save_images(X_test, y_test, os.path.join(base_dir, 'test'))\n"
      ],
      "metadata": {
        "id": "UGeGMAuAurg2"
      },
      "execution_count": 10,
      "outputs": []
    }
  ]
}