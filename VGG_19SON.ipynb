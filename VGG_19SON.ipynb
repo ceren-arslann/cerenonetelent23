{
  "nbformat": 4,
  "nbformat_minor": 0,
  "metadata": {
    "colab": {
      "provenance": [],
      "machine_shape": "hm",
      "gpuType": "T4",
      "mount_file_id": "1ruowrp8hOgRI6BNAkuGsED1npwVqWZ0t",
      "authorship_tag": "ABX9TyORhygSEpgZcBcqrL42mPOp",
      "include_colab_link": true
    },
    "kernelspec": {
      "name": "python3",
      "display_name": "Python 3"
    },
    "language_info": {
      "name": "python"
    },
    "accelerator": "GPU"
  },
  "cells": [
    {
      "cell_type": "markdown",
      "metadata": {
        "id": "view-in-github",
        "colab_type": "text"
      },
      "source": [
        "<a href=\"https://colab.research.google.com/github/xcarslan/cerenonetelent23/blob/main/VGG_19SON.ipynb\" target=\"_parent\"><img src=\"https://colab.research.google.com/assets/colab-badge.svg\" alt=\"Open In Colab\"/></a>"
      ]
    },
    {
      "cell_type": "code",
      "execution_count": null,
      "metadata": {
        "id": "228BJYaqr4XE"
      },
      "outputs": [],
      "source": [
        "\"\"\"\n",
        "Anomaly localization in images using the global average pooling layer.\n",
        "Binary classification - Good vs. bad images (control vs ms)\n",
        "This code uses the multiple-sclerosis dataset\n",
        "\"\"\"\n",
        "\n",
        "import matplotlib.pyplot as plt\n",
        "from tensorflow.keras.models import Model\n",
        "from tensorflow.keras.layers import GlobalAveragePooling2D, Dense\n",
        "from tensorflow.keras.applications import vgg16\n",
        "from tensorflow.keras.optimizers import Adam, SGD\n",
        "import scipy  #Used to upsample our image\n",
        "import glob\n",
        "import os\n",
        "from PIL import Image\n",
        "\n",
        "\n",
        "\n",
        "import numpy as np\n",
        "import glob\n",
        "from sklearn.metrics import confusion_matrix , accuracy_score\n",
        "import cv2\n",
        "from sklearn.model_selection import train_test_split\n",
        "from sklearn.preprocessing import StandardScaler\n",
        "from numpy.linalg import eigh"
      ]
    },
    {
      "cell_type": "code",
      "source": [
        "dataset = []  #Many ways to handle data, you can use pandas. Here, we are using a list format.\n",
        "label = []  #Placeholders to define add labels. We will add 1 to all parasitized images and 0 to uninfected"
      ],
      "metadata": {
        "id": "lshgibojr-yi"
      },
      "execution_count": null,
      "outputs": []
    },
    {
      "cell_type": "code",
      "source": [
        "path = '/content/drive/MyDrive/Multiple Sclerosis/Control-Axial/*'\n",
        "for f in glob.iglob(path):\n",
        "    img1=cv2.imread(f)\n",
        "    img1 = Image.fromarray(img1, 'RGB')\n",
        "    img1 = img1.resize((224, 224))\n",
        "    dataset.append(np.array(img1))\n",
        "    label.append(0)"
      ],
      "metadata": {
        "id": "FQbZwThQsBrm"
      },
      "execution_count": null,
      "outputs": []
    },
    {
      "cell_type": "code",
      "source": [
        "path = '/content/drive/MyDrive/Multiple Sclerosis/Control-Sagittal/*'\n",
        "for f in glob.iglob(path):\n",
        "    img3=cv2.imread(f)\n",
        "    img3 = Image.fromarray(img3, 'RGB')\n",
        "    img3 = img3.resize((224, 224))\n",
        "    dataset.append(np.array(img3))\n",
        "    label.append(2)"
      ],
      "metadata": {
        "id": "xrgmi4Zpsvj-"
      },
      "execution_count": null,
      "outputs": []
    },
    {
      "cell_type": "code",
      "source": [
        "path = '/content/drive/MyDrive/Multiple Sclerosis/MS-Sagittal/*'\n",
        "for f in glob.iglob(path):\n",
        "    img4=cv2.imread(f)\n",
        "    img4 = Image.fromarray(img4, 'RGB')\n",
        "    img4 = img4.resize((224, 224))\n",
        "    dataset.append(np.array(img4))\n",
        "    label.append(3)"
      ],
      "metadata": {
        "id": "TtoulH2-s2Lu"
      },
      "execution_count": null,
      "outputs": []
    },
    {
      "cell_type": "code",
      "source": [
        "path = '/content/drive/MyDrive/Multiple Sclerosis/MS-Axial/*'\n",
        "for f in glob.iglob(path):\n",
        "    img2=cv2.imread(f)\n",
        "    img2 = Image.fromarray(img2, 'RGB')\n",
        "    img2 = img2.resize((224, 224))\n",
        "    dataset.append(np.array(img2))\n",
        "    label.append(1)"
      ],
      "metadata": {
        "id": "XODONrUxtHeO"
      },
      "execution_count": null,
      "outputs": []
    },
    {
      "cell_type": "code",
      "source": [
        "dataset = np.array(dataset)\n",
        "label = np.array(label)"
      ],
      "metadata": {
        "id": "bZawlBjmthht"
      },
      "execution_count": null,
      "outputs": []
    },
    {
      "cell_type": "code",
      "source": [
        "#Split into train and test data sets\n",
        "from sklearn.model_selection import train_test_split\n",
        "\n",
        "X_train, X_test, y_train, y_test= train_test_split(dataset, label, test_size = 0.30, random_state = 0)"
      ],
      "metadata": {
        "id": "3lbOINwYtvDk"
      },
      "execution_count": null,
      "outputs": []
    },
    {
      "cell_type": "code",
      "source": [
        "X_train = X_train /255.\n",
        "X_test = X_test /255."
      ],
      "metadata": {
        "id": "mZprKw1-tx31"
      },
      "execution_count": null,
      "outputs": []
    },
    {
      "cell_type": "code",
      "source": [
        "#Since we will be using categorical cross entropy loss, we need to convert our Y values to categorical.\n",
        "from tensorflow.keras.utils import to_categorical\n",
        "y_train = to_categorical(y_train)\n",
        "y_test = to_categorical(y_test)"
      ],
      "metadata": {
        "id": "yEW6GEKqt1AY"
      },
      "execution_count": null,
      "outputs": []
    },
    {
      "cell_type": "code",
      "source": [
        "import cv2\n",
        "import numpy as np\n",
        "from PIL import Image\n",
        "import matplotlib.pyplot as plt\n",
        "from tensorflow import keras\n",
        "import os\n",
        "import cv2\n",
        "import timeit\n",
        "import numpy as np\n",
        "import pandas as pd\n",
        "from PIL import Image\n",
        "from tensorflow import keras\n",
        "import tensorflow as tf\n",
        "from keras import Model\n",
        "import matplotlib.pyplot as plt\n",
        "from keras.metrics import MeanIoU\n",
        "from keras.callbacks import ModelCheckpoint\n",
        "from tensorflow.keras.models import Sequential\n",
        "from tensorflow.keras.optimizers import SGD,Adam\n",
        "from sklearn.model_selection import train_test_split\n",
        "from tensorflow.keras.callbacks import EarlyStopping, ModelCheckpoint\n",
        "from tensorflow.keras.preprocessing.image import load_img ,img_to_array\n",
        "from sklearn.metrics import accuracy_score, confusion_matrix, roc_curve, roc_auc_score, classification_report\n",
        "from tensorflow.keras.layers import MaxPooling2D,BatchNormalization,Conv2D,Dense,Activation,Conv2DTranspose,Input\n",
        "from tensorflow.keras.layers import Input, Activation, BatchNormalization, Dropout, Lambda, Conv2D\n",
        "from tensorflow.keras.layers import Conv2DTranspose, MaxPooling2D, concatenate, AveragePooling2D, Dense, Flatten\n",
        "from tensorflow.keras.optimizers import Adam\n",
        "from tensorflow.keras.callbacks import EarlyStopping, ModelCheckpoint, ReduceLROnPlateau\n",
        "from tensorflow.keras import backend as K\n",
        "from tensorflow.keras.layers import Flatten,Dropout,SpatialDropout2D,AveragePooling2D,GlobalAveragePooling2D,Concatenate\n",
        "\n",
        "from keras.layers import BatchNormalization\n",
        "from keras.models import Sequential\n",
        "from keras.layers import LeakyReLU\n",
        "from tensorflow.keras.optimizers import Adam\n",
        "from keras.layers import Flatten\n",
        "from keras.layers import Dense\n",
        "from IPython.display import Image, display\n",
        "# preprocessing and processing\n",
        "import numpy as np\n",
        "import pandas as pd\n",
        "from sklearn.preprocessing import LabelEncoder\n",
        "from tensorflow.keras.utils import to_categorical\n",
        "# ploting\n",
        "import matplotlib.pyplot as plt\n",
        "import plotly.graph_objects as go\n",
        "from tensorflow.keras.utils import plot_model\n",
        "# split data\n",
        "from sklearn.model_selection import train_test_split\n",
        "# CNN\n",
        "from keras import models, layers\n",
        "# val\n",
        "from sklearn.metrics import accuracy_score\n",
        "from sklearn.metrics import classification_report\n",
        "\n",
        "\n",
        "\n",
        "\n",
        "from tensorflow.keras.optimizers import SGD\n",
        "\n",
        "from keras.callbacks import EarlyStopping,ModelCheckpoint\n",
        "\n",
        "from keras.layers import MaxPool2D\n",
        "\n",
        "from keras.callbacks import ModelCheckpoint\n",
        "checkp = ModelCheckpoint('./unet_model.h5', monitor = 'accuracy', save_best_only = True, verbose = 1)\n",
        "\n",
        "vgg19 = keras.applications.vgg19\n",
        "conv_model = vgg19.VGG19(weights='imagenet', include_top=False, input_shape=(224,224,3))\n",
        "for layer in conv_model.layers:\n",
        "    layer.trainable = False\n",
        "x = keras.layers.Flatten()(conv_model.output)\n",
        "x = keras.layers.BatchNormalization()(x)\n",
        "x = keras.layers.Dense(128, activation='relu')(x)\n",
        "x = keras.layers.Dropout(.2)(x)\n",
        "x = keras.layers.Dense(64, activation='relu')(x)\n",
        "x = keras.layers.Dropout(.2)(x)\n",
        "x = keras.layers.Dense(132, activation='relu')(x)\n",
        "predictions = keras.layers.Dense(4, activation='softmax')(x)\n",
        "full_model = keras.models.Model(inputs=conv_model.input, outputs=predictions)\n",
        "full_model.summary()\n",
        "full_model.compile(loss='categorical_crossentropy',\n",
        "                  optimizer=keras.optimizers.Adamax(lr=0.001),\n",
        "                  metrics=['accuracy'],)\n",
        "\n",
        "history = full_model.fit(X_train, y_train, batch_size =32, epochs = 50, validation_data = (X_test, y_test),   workers=10, callbacks = [checkp])"
      ],
      "metadata": {
        "colab": {
          "base_uri": "https://localhost:8080/"
        },
        "id": "Vs4Rbtakt5TC",
        "outputId": "be1a9a2c-8094-4ac7-ab47-01fba4425215"
      },
      "execution_count": null,
      "outputs": [
        {
          "output_type": "stream",
          "name": "stdout",
          "text": [
            "Downloading data from https://storage.googleapis.com/tensorflow/keras-applications/vgg19/vgg19_weights_tf_dim_ordering_tf_kernels_notop.h5\n",
            "80134624/80134624 [==============================] - 4s 0us/step\n",
            "Model: \"model\"\n",
            "_________________________________________________________________\n",
            " Layer (type)                Output Shape              Param #   \n",
            "=================================================================\n",
            " input_1 (InputLayer)        [(None, 224, 224, 3)]     0         \n",
            "                                                                 \n",
            " block1_conv1 (Conv2D)       (None, 224, 224, 64)      1792      \n",
            "                                                                 \n",
            " block1_conv2 (Conv2D)       (None, 224, 224, 64)      36928     \n",
            "                                                                 \n",
            " block1_pool (MaxPooling2D)  (None, 112, 112, 64)      0         \n",
            "                                                                 \n",
            " block2_conv1 (Conv2D)       (None, 112, 112, 128)     73856     \n",
            "                                                                 \n",
            " block2_conv2 (Conv2D)       (None, 112, 112, 128)     147584    \n",
            "                                                                 \n",
            " block2_pool (MaxPooling2D)  (None, 56, 56, 128)       0         \n",
            "                                                                 \n",
            " block3_conv1 (Conv2D)       (None, 56, 56, 256)       295168    \n",
            "                                                                 \n",
            " block3_conv2 (Conv2D)       (None, 56, 56, 256)       590080    \n",
            "                                                                 \n",
            " block3_conv3 (Conv2D)       (None, 56, 56, 256)       590080    \n",
            "                                                                 \n",
            " block3_conv4 (Conv2D)       (None, 56, 56, 256)       590080    \n",
            "                                                                 \n",
            " block3_pool (MaxPooling2D)  (None, 28, 28, 256)       0         \n",
            "                                                                 \n",
            " block4_conv1 (Conv2D)       (None, 28, 28, 512)       1180160   \n",
            "                                                                 \n",
            " block4_conv2 (Conv2D)       (None, 28, 28, 512)       2359808   \n",
            "                                                                 \n",
            " block4_conv3 (Conv2D)       (None, 28, 28, 512)       2359808   \n",
            "                                                                 \n",
            " block4_conv4 (Conv2D)       (None, 28, 28, 512)       2359808   \n",
            "                                                                 \n",
            " block4_pool (MaxPooling2D)  (None, 14, 14, 512)       0         \n",
            "                                                                 \n",
            " block5_conv1 (Conv2D)       (None, 14, 14, 512)       2359808   \n",
            "                                                                 \n",
            " block5_conv2 (Conv2D)       (None, 14, 14, 512)       2359808   \n",
            "                                                                 \n",
            " block5_conv3 (Conv2D)       (None, 14, 14, 512)       2359808   \n",
            "                                                                 \n",
            " block5_conv4 (Conv2D)       (None, 14, 14, 512)       2359808   \n",
            "                                                                 \n",
            " block5_pool (MaxPooling2D)  (None, 7, 7, 512)         0         \n",
            "                                                                 \n",
            " flatten (Flatten)           (None, 25088)             0         \n",
            "                                                                 \n",
            " batch_normalization (Batch  (None, 25088)             100352    \n",
            " Normalization)                                                  \n",
            "                                                                 \n",
            " dense (Dense)               (None, 128)               3211392   \n",
            "                                                                 \n",
            " dropout (Dropout)           (None, 128)               0         \n",
            "                                                                 \n",
            " dense_1 (Dense)             (None, 64)                8256      \n",
            "                                                                 \n",
            " dropout_1 (Dropout)         (None, 64)                0         \n",
            "                                                                 \n",
            " dense_2 (Dense)             (None, 132)               8580      \n",
            "                                                                 \n",
            " dense_3 (Dense)             (None, 4)                 532       \n",
            "                                                                 \n",
            "=================================================================\n",
            "Total params: 23353496 (89.09 MB)\n",
            "Trainable params: 3278936 (12.51 MB)\n",
            "Non-trainable params: 20074560 (76.58 MB)\n",
            "_________________________________________________________________\n"
          ]
        },
        {
          "output_type": "stream",
          "name": "stderr",
          "text": [
            "WARNING:absl:`lr` is deprecated in Keras optimizer, please use `learning_rate` or use the legacy optimizer, e.g.,tf.keras.optimizers.legacy.Adamax.\n"
          ]
        },
        {
          "output_type": "stream",
          "name": "stdout",
          "text": [
            "Epoch 1/50\n",
            "75/75 [==============================] - ETA: 0s - loss: 0.7869 - accuracy: 0.7018\n",
            "Epoch 1: accuracy improved from -inf to 0.70183, saving model to ./unet_model.h5\n"
          ]
        },
        {
          "output_type": "stream",
          "name": "stderr",
          "text": [
            "/usr/local/lib/python3.10/dist-packages/keras/src/engine/training.py:3103: UserWarning: You are saving your model as an HDF5 file via `model.save()`. This file format is considered legacy. We recommend using instead the native Keras format, e.g. `model.save('my_model.keras')`.\n",
            "  saving_api.save_model(\n"
          ]
        },
        {
          "output_type": "stream",
          "name": "stdout",
          "text": [
            "\b\b\b\b\b\b\b\b\b\b\b\b\b\b\b\b\b\b\b\b\b\b\b\b\b\b\b\b\b\b\b\b\b\b\b\b\b\b\b\b\b\b\b\b\b\b\b\b\b\b\b\b\b\b\b\b\b\b\b\b\b\b\b\b\b\b\b\b\b\b\b\b\b\b\b\b\b\b\b\b\b\b\r75/75 [==============================] - 36s 339ms/step - loss: 0.7869 - accuracy: 0.7018 - val_loss: 0.7023 - val_accuracy: 0.7551\n",
            "Epoch 2/50\n",
            "75/75 [==============================] - ETA: 0s - loss: 0.3870 - accuracy: 0.8328\n",
            "Epoch 2: accuracy improved from 0.70183 to 0.83278, saving model to ./unet_model.h5\n",
            "75/75 [==============================] - 16s 216ms/step - loss: 0.3870 - accuracy: 0.8328 - val_loss: 0.5308 - val_accuracy: 0.7959\n",
            "Epoch 3/50\n",
            "75/75 [==============================] - ETA: 0s - loss: 0.2889 - accuracy: 0.8857\n",
            "Epoch 3: accuracy improved from 0.83278 to 0.88574, saving model to ./unet_model.h5\n",
            "75/75 [==============================] - 17s 224ms/step - loss: 0.2889 - accuracy: 0.8857 - val_loss: 0.3527 - val_accuracy: 0.9086\n",
            "Epoch 4/50\n",
            "75/75 [==============================] - ETA: 0s - loss: 0.2441 - accuracy: 0.9008\n",
            "Epoch 4: accuracy improved from 0.88574 to 0.90075, saving model to ./unet_model.h5\n",
            "75/75 [==============================] - 17s 232ms/step - loss: 0.2441 - accuracy: 0.9008 - val_loss: 0.2618 - val_accuracy: 0.9242\n",
            "Epoch 5/50\n",
            "75/75 [==============================] - ETA: 0s - loss: 0.2102 - accuracy: 0.9174\n",
            "Epoch 5: accuracy improved from 0.90075 to 0.91743, saving model to ./unet_model.h5\n",
            "75/75 [==============================] - 18s 239ms/step - loss: 0.2102 - accuracy: 0.9174 - val_loss: 0.2017 - val_accuracy: 0.9349\n",
            "Epoch 6/50\n",
            "75/75 [==============================] - ETA: 0s - loss: 0.1591 - accuracy: 0.9354\n",
            "Epoch 6: accuracy improved from 0.91743 to 0.93536, saving model to ./unet_model.h5\n",
            "75/75 [==============================] - 18s 243ms/step - loss: 0.1591 - accuracy: 0.9354 - val_loss: 0.1770 - val_accuracy: 0.9320\n",
            "Epoch 7/50\n",
            "75/75 [==============================] - ETA: 0s - loss: 0.1385 - accuracy: 0.9433\n",
            "Epoch 7: accuracy improved from 0.93536 to 0.94329, saving model to ./unet_model.h5\n",
            "75/75 [==============================] - 18s 237ms/step - loss: 0.1385 - accuracy: 0.9433 - val_loss: 0.1536 - val_accuracy: 0.9466\n",
            "Epoch 8/50\n",
            "75/75 [==============================] - ETA: 0s - loss: 0.1142 - accuracy: 0.9562\n",
            "Epoch 8: accuracy improved from 0.94329 to 0.95621, saving model to ./unet_model.h5\n",
            "75/75 [==============================] - 18s 236ms/step - loss: 0.1142 - accuracy: 0.9562 - val_loss: 0.1480 - val_accuracy: 0.9543\n",
            "Epoch 9/50\n",
            "75/75 [==============================] - ETA: 0s - loss: 0.1181 - accuracy: 0.9554\n",
            "Epoch 9: accuracy did not improve from 0.95621\n",
            "75/75 [==============================] - 17s 233ms/step - loss: 0.1181 - accuracy: 0.9554 - val_loss: 0.1442 - val_accuracy: 0.9495\n",
            "Epoch 10/50\n",
            "75/75 [==============================] - ETA: 0s - loss: 0.0925 - accuracy: 0.9687\n",
            "Epoch 10: accuracy improved from 0.95621 to 0.96872, saving model to ./unet_model.h5\n",
            "75/75 [==============================] - 18s 237ms/step - loss: 0.0925 - accuracy: 0.9687 - val_loss: 0.1224 - val_accuracy: 0.9543\n",
            "Epoch 11/50\n",
            "75/75 [==============================] - ETA: 0s - loss: 0.0827 - accuracy: 0.9704\n",
            "Epoch 11: accuracy improved from 0.96872 to 0.97039, saving model to ./unet_model.h5\n",
            "75/75 [==============================] - 18s 238ms/step - loss: 0.0827 - accuracy: 0.9704 - val_loss: 0.1739 - val_accuracy: 0.9427\n",
            "Epoch 12/50\n",
            "75/75 [==============================] - ETA: 0s - loss: 0.0914 - accuracy: 0.9658\n",
            "Epoch 12: accuracy did not improve from 0.97039\n",
            "75/75 [==============================] - 17s 233ms/step - loss: 0.0914 - accuracy: 0.9658 - val_loss: 0.1356 - val_accuracy: 0.9475\n",
            "Epoch 13/50\n",
            "75/75 [==============================] - ETA: 0s - loss: 0.0630 - accuracy: 0.9787\n",
            "Epoch 13: accuracy improved from 0.97039 to 0.97873, saving model to ./unet_model.h5\n",
            "75/75 [==============================] - 18s 237ms/step - loss: 0.0630 - accuracy: 0.9787 - val_loss: 0.1414 - val_accuracy: 0.9534\n",
            "Epoch 14/50\n",
            "75/75 [==============================] - ETA: 0s - loss: 0.0553 - accuracy: 0.9787\n",
            "Epoch 14: accuracy did not improve from 0.97873\n",
            "75/75 [==============================] - 17s 233ms/step - loss: 0.0553 - accuracy: 0.9787 - val_loss: 0.1453 - val_accuracy: 0.9514\n",
            "Epoch 15/50\n",
            "75/75 [==============================] - ETA: 0s - loss: 0.0537 - accuracy: 0.9808\n",
            "Epoch 15: accuracy improved from 0.97873 to 0.98082, saving model to ./unet_model.h5\n",
            "75/75 [==============================] - 18s 237ms/step - loss: 0.0537 - accuracy: 0.9808 - val_loss: 0.1504 - val_accuracy: 0.9592\n",
            "Epoch 16/50\n",
            "75/75 [==============================] - ETA: 0s - loss: 0.0642 - accuracy: 0.9787\n",
            "Epoch 16: accuracy did not improve from 0.98082\n",
            "75/75 [==============================] - 17s 233ms/step - loss: 0.0642 - accuracy: 0.9787 - val_loss: 0.1254 - val_accuracy: 0.9631\n",
            "Epoch 17/50\n",
            "75/75 [==============================] - ETA: 0s - loss: 0.0444 - accuracy: 0.9837\n",
            "Epoch 17: accuracy improved from 0.98082 to 0.98374, saving model to ./unet_model.h5\n",
            "75/75 [==============================] - 18s 237ms/step - loss: 0.0444 - accuracy: 0.9837 - val_loss: 0.1425 - val_accuracy: 0.9621\n",
            "Epoch 18/50\n",
            "75/75 [==============================] - ETA: 0s - loss: 0.0439 - accuracy: 0.9846\n",
            "Epoch 18: accuracy improved from 0.98374 to 0.98457, saving model to ./unet_model.h5\n",
            "75/75 [==============================] - 18s 237ms/step - loss: 0.0439 - accuracy: 0.9846 - val_loss: 0.1313 - val_accuracy: 0.9592\n",
            "Epoch 19/50\n",
            "75/75 [==============================] - ETA: 0s - loss: 0.0456 - accuracy: 0.9833\n",
            "Epoch 19: accuracy did not improve from 0.98457\n",
            "75/75 [==============================] - 17s 233ms/step - loss: 0.0456 - accuracy: 0.9833 - val_loss: 0.1645 - val_accuracy: 0.9456\n",
            "Epoch 20/50\n",
            "75/75 [==============================] - ETA: 0s - loss: 0.0362 - accuracy: 0.9862\n",
            "Epoch 20: accuracy improved from 0.98457 to 0.98624, saving model to ./unet_model.h5\n",
            "75/75 [==============================] - 18s 237ms/step - loss: 0.0362 - accuracy: 0.9862 - val_loss: 0.1215 - val_accuracy: 0.9621\n",
            "Epoch 21/50\n",
            "75/75 [==============================] - ETA: 0s - loss: 0.0361 - accuracy: 0.9883\n",
            "Epoch 21: accuracy improved from 0.98624 to 0.98832, saving model to ./unet_model.h5\n",
            "75/75 [==============================] - 18s 237ms/step - loss: 0.0361 - accuracy: 0.9883 - val_loss: 0.1419 - val_accuracy: 0.9543\n",
            "Epoch 22/50\n",
            "75/75 [==============================] - ETA: 0s - loss: 0.0292 - accuracy: 0.9912\n",
            "Epoch 22: accuracy improved from 0.98832 to 0.99124, saving model to ./unet_model.h5\n",
            "75/75 [==============================] - 18s 237ms/step - loss: 0.0292 - accuracy: 0.9912 - val_loss: 0.1243 - val_accuracy: 0.9660\n",
            "Epoch 23/50\n",
            "75/75 [==============================] - ETA: 0s - loss: 0.0300 - accuracy: 0.9908\n",
            "Epoch 23: accuracy did not improve from 0.99124\n",
            "75/75 [==============================] - 17s 233ms/step - loss: 0.0300 - accuracy: 0.9908 - val_loss: 0.1367 - val_accuracy: 0.9650\n",
            "Epoch 24/50\n",
            "75/75 [==============================] - ETA: 0s - loss: 0.0377 - accuracy: 0.9846\n",
            "Epoch 24: accuracy did not improve from 0.99124\n",
            "75/75 [==============================] - 17s 233ms/step - loss: 0.0377 - accuracy: 0.9846 - val_loss: 0.1294 - val_accuracy: 0.9631\n",
            "Epoch 25/50\n",
            "75/75 [==============================] - ETA: 0s - loss: 0.0314 - accuracy: 0.9896\n",
            "Epoch 25: accuracy did not improve from 0.99124\n",
            "75/75 [==============================] - 17s 233ms/step - loss: 0.0314 - accuracy: 0.9896 - val_loss: 0.1202 - val_accuracy: 0.9621\n",
            "Epoch 26/50\n",
            "75/75 [==============================] - ETA: 0s - loss: 0.0138 - accuracy: 0.9950\n",
            "Epoch 26: accuracy improved from 0.99124 to 0.99500, saving model to ./unet_model.h5\n",
            "75/75 [==============================] - 18s 237ms/step - loss: 0.0138 - accuracy: 0.9950 - val_loss: 0.1492 - val_accuracy: 0.9592\n",
            "Epoch 27/50\n",
            "75/75 [==============================] - ETA: 0s - loss: 0.0253 - accuracy: 0.9921\n",
            "Epoch 27: accuracy did not improve from 0.99500\n",
            "75/75 [==============================] - 17s 233ms/step - loss: 0.0253 - accuracy: 0.9921 - val_loss: 0.1421 - val_accuracy: 0.9650\n",
            "Epoch 28/50\n",
            "75/75 [==============================] - ETA: 0s - loss: 0.0273 - accuracy: 0.9917\n",
            "Epoch 28: accuracy did not improve from 0.99500\n",
            "75/75 [==============================] - 17s 233ms/step - loss: 0.0273 - accuracy: 0.9917 - val_loss: 0.1660 - val_accuracy: 0.9640\n",
            "Epoch 29/50\n",
            "75/75 [==============================] - ETA: 0s - loss: 0.0210 - accuracy: 0.9933\n",
            "Epoch 29: accuracy did not improve from 0.99500\n",
            "75/75 [==============================] - 17s 233ms/step - loss: 0.0210 - accuracy: 0.9933 - val_loss: 0.1789 - val_accuracy: 0.9611\n",
            "Epoch 30/50\n",
            "75/75 [==============================] - ETA: 0s - loss: 0.0289 - accuracy: 0.9925\n",
            "Epoch 30: accuracy did not improve from 0.99500\n",
            "75/75 [==============================] - 17s 233ms/step - loss: 0.0289 - accuracy: 0.9925 - val_loss: 0.1284 - val_accuracy: 0.9679\n",
            "Epoch 31/50\n",
            "75/75 [==============================] - ETA: 0s - loss: 0.0206 - accuracy: 0.9937\n",
            "Epoch 31: accuracy did not improve from 0.99500\n",
            "75/75 [==============================] - 17s 233ms/step - loss: 0.0206 - accuracy: 0.9937 - val_loss: 0.1254 - val_accuracy: 0.9708\n",
            "Epoch 32/50\n",
            "75/75 [==============================] - ETA: 0s - loss: 0.0171 - accuracy: 0.9937\n",
            "Epoch 32: accuracy did not improve from 0.99500\n",
            "75/75 [==============================] - 17s 233ms/step - loss: 0.0171 - accuracy: 0.9937 - val_loss: 0.1431 - val_accuracy: 0.9640\n",
            "Epoch 33/50\n",
            "75/75 [==============================] - ETA: 0s - loss: 0.0160 - accuracy: 0.9942\n",
            "Epoch 33: accuracy did not improve from 0.99500\n",
            "75/75 [==============================] - 17s 233ms/step - loss: 0.0160 - accuracy: 0.9942 - val_loss: 0.1239 - val_accuracy: 0.9679\n",
            "Epoch 34/50\n",
            "75/75 [==============================] - ETA: 0s - loss: 0.0218 - accuracy: 0.9937\n",
            "Epoch 34: accuracy did not improve from 0.99500\n",
            "75/75 [==============================] - 17s 233ms/step - loss: 0.0218 - accuracy: 0.9937 - val_loss: 0.1653 - val_accuracy: 0.9670\n",
            "Epoch 35/50\n",
            "75/75 [==============================] - ETA: 0s - loss: 0.0165 - accuracy: 0.9942\n",
            "Epoch 35: accuracy did not improve from 0.99500\n",
            "75/75 [==============================] - 17s 233ms/step - loss: 0.0165 - accuracy: 0.9942 - val_loss: 0.1736 - val_accuracy: 0.9553\n",
            "Epoch 36/50\n",
            "75/75 [==============================] - ETA: 0s - loss: 0.0122 - accuracy: 0.9967\n",
            "Epoch 36: accuracy improved from 0.99500 to 0.99666, saving model to ./unet_model.h5\n",
            "75/75 [==============================] - 18s 238ms/step - loss: 0.0122 - accuracy: 0.9967 - val_loss: 0.1793 - val_accuracy: 0.9582\n",
            "Epoch 37/50\n",
            "75/75 [==============================] - ETA: 0s - loss: 0.0117 - accuracy: 0.9967\n",
            "Epoch 37: accuracy did not improve from 0.99666\n",
            "75/75 [==============================] - 17s 233ms/step - loss: 0.0117 - accuracy: 0.9967 - val_loss: 0.1946 - val_accuracy: 0.9611\n",
            "Epoch 38/50\n",
            "75/75 [==============================] - ETA: 0s - loss: 0.0232 - accuracy: 0.9933\n",
            "Epoch 38: accuracy did not improve from 0.99666\n",
            "75/75 [==============================] - 17s 233ms/step - loss: 0.0232 - accuracy: 0.9933 - val_loss: 0.1566 - val_accuracy: 0.9621\n",
            "Epoch 39/50\n",
            "75/75 [==============================] - ETA: 0s - loss: 0.0166 - accuracy: 0.9954\n",
            "Epoch 39: accuracy did not improve from 0.99666\n",
            "75/75 [==============================] - 17s 233ms/step - loss: 0.0166 - accuracy: 0.9954 - val_loss: 0.1365 - val_accuracy: 0.9679\n",
            "Epoch 40/50\n",
            "75/75 [==============================] - ETA: 0s - loss: 0.0167 - accuracy: 0.9950\n",
            "Epoch 40: accuracy did not improve from 0.99666\n",
            "75/75 [==============================] - 17s 233ms/step - loss: 0.0167 - accuracy: 0.9950 - val_loss: 0.1919 - val_accuracy: 0.9592\n",
            "Epoch 41/50\n",
            "75/75 [==============================] - ETA: 0s - loss: 0.0134 - accuracy: 0.9962\n",
            "Epoch 41: accuracy did not improve from 0.99666\n",
            "75/75 [==============================] - 17s 233ms/step - loss: 0.0134 - accuracy: 0.9962 - val_loss: 0.1845 - val_accuracy: 0.9611\n",
            "Epoch 42/50\n",
            "75/75 [==============================] - ETA: 0s - loss: 0.0104 - accuracy: 0.9971\n",
            "Epoch 42: accuracy improved from 0.99666 to 0.99708, saving model to ./unet_model.h5\n",
            "75/75 [==============================] - 18s 237ms/step - loss: 0.0104 - accuracy: 0.9971 - val_loss: 0.1533 - val_accuracy: 0.9631\n",
            "Epoch 43/50\n",
            "75/75 [==============================] - ETA: 0s - loss: 0.0151 - accuracy: 0.9962\n",
            "Epoch 43: accuracy did not improve from 0.99708\n",
            "75/75 [==============================] - 17s 233ms/step - loss: 0.0151 - accuracy: 0.9962 - val_loss: 0.1594 - val_accuracy: 0.9640\n",
            "Epoch 44/50\n",
            "75/75 [==============================] - ETA: 0s - loss: 0.0123 - accuracy: 0.9967\n",
            "Epoch 44: accuracy did not improve from 0.99708\n",
            "75/75 [==============================] - 17s 233ms/step - loss: 0.0123 - accuracy: 0.9967 - val_loss: 0.1679 - val_accuracy: 0.9650\n",
            "Epoch 45/50\n",
            "75/75 [==============================] - ETA: 0s - loss: 0.0152 - accuracy: 0.9937\n",
            "Epoch 45: accuracy did not improve from 0.99708\n",
            "75/75 [==============================] - 17s 233ms/step - loss: 0.0152 - accuracy: 0.9937 - val_loss: 0.2134 - val_accuracy: 0.9543\n",
            "Epoch 46/50\n",
            "75/75 [==============================] - ETA: 0s - loss: 0.0140 - accuracy: 0.9946\n",
            "Epoch 46: accuracy did not improve from 0.99708\n",
            "75/75 [==============================] - 17s 233ms/step - loss: 0.0140 - accuracy: 0.9946 - val_loss: 0.1401 - val_accuracy: 0.9621\n",
            "Epoch 47/50\n",
            "75/75 [==============================] - ETA: 0s - loss: 0.0141 - accuracy: 0.9958\n",
            "Epoch 47: accuracy did not improve from 0.99708\n",
            "75/75 [==============================] - 17s 233ms/step - loss: 0.0141 - accuracy: 0.9958 - val_loss: 0.1615 - val_accuracy: 0.9640\n",
            "Epoch 48/50\n",
            "75/75 [==============================] - ETA: 0s - loss: 0.0122 - accuracy: 0.9958\n",
            "Epoch 48: accuracy did not improve from 0.99708\n",
            "75/75 [==============================] - 17s 233ms/step - loss: 0.0122 - accuracy: 0.9958 - val_loss: 0.1569 - val_accuracy: 0.9660\n",
            "Epoch 49/50\n",
            "75/75 [==============================] - ETA: 0s - loss: 0.0139 - accuracy: 0.9937\n",
            "Epoch 49: accuracy did not improve from 0.99708\n",
            "75/75 [==============================] - 17s 233ms/step - loss: 0.0139 - accuracy: 0.9937 - val_loss: 0.1637 - val_accuracy: 0.9631\n",
            "Epoch 50/50\n",
            "75/75 [==============================] - ETA: 0s - loss: 0.0060 - accuracy: 0.9983\n",
            "Epoch 50: accuracy improved from 0.99708 to 0.99833, saving model to ./unet_model.h5\n",
            "75/75 [==============================] - 18s 237ms/step - loss: 0.0060 - accuracy: 0.9983 - val_loss: 0.1809 - val_accuracy: 0.9660\n"
          ]
        }
      ]
    },
    {
      "cell_type": "code",
      "source": [
        "k = ''\n",
        "if 'accuracy' in history.history :\n",
        "    k = 'accuracy'\n",
        "\n",
        "if 'acc' in history.history :\n",
        "    k = 'acc'\n",
        "\n",
        "if k != '' :\n",
        "    plt.plot(history.history[k])\n",
        "    plt.plot(history.history['val_'+k])\n",
        "    plt.title('Model Accuracy')\n",
        "    plt.ylabel('Accuracy')\n",
        "    plt.xlabel('Epoch')\n",
        "    plt.legend(['train', 'test'], loc='upper left')\n",
        "    plt.show()"
      ],
      "metadata": {
        "colab": {
          "base_uri": "https://localhost:8080/",
          "height": 472
        },
        "id": "c7nVdtQswZa2",
        "outputId": "8b7cb14c-f60a-433f-d59a-2766468d0c90"
      },
      "execution_count": null,
      "outputs": [
        {
          "output_type": "display_data",
          "data": {
            "text/plain": [
              "<Figure size 640x480 with 1 Axes>"
            ],
            "image/png": "[encoded data removed]"
          },
          "metadata": {}
        }
      ]
    },
    {
      "cell_type": "code",
      "source": [
        "# dictionary keys seems to have changed in version 2\n",
        "k = ''\n",
        "if 'accuracy' in history.history :\n",
        "    k = 'accuracy'\n",
        "\n",
        "if 'acc' in history.history :\n",
        "    k = 'acc'\n",
        "\n",
        "if k != '' :\n",
        "    plt.plot(history.history[k])\n",
        "    plt.plot(history.history['val_'+k])\n",
        "    plt.title('Model Accuracy')\n",
        "    plt.ylabel('Accuracy')\n",
        "    plt.xlabel('Epoch')\n",
        "    plt.legend(['train', 'test'], loc='upper left')\n",
        "    plt.show()"
      ],
      "metadata": {
        "colab": {
          "base_uri": "https://localhost:8080/",
          "height": 472
        },
        "id": "pq_9iU-Pwb3S",
        "outputId": "1273f8c0-3a6c-4893-e70a-628b0c68160f"
      },
      "execution_count": null,
      "outputs": [
        {
          "output_type": "display_data",
          "data": {
            "text/plain": [
              "<Figure size 640x480 with 1 Axes>"
            ],
            "image/png": "[encoded data removed]"
          },
          "metadata": {}
        }
      ]
    },
    {
      "cell_type": "code",
      "source": [
        "full_model.save(\"finalunet.h5\")"
      ],
      "metadata": {
        "id": "EJNgQAKZwfpy"
      },
      "execution_count": null,
      "outputs": []
    },
    {
      "cell_type": "code",
      "source": [
        "y_pred = full_model.predict(X_test)"
      ],
      "metadata": {
        "colab": {
          "base_uri": "https://localhost:8080/"
        },
        "id": "zOFSG297wh4Q",
        "outputId": "cd526a5a-dd99-465d-865e-86a02e20145c"
      },
      "execution_count": null,
      "outputs": [
        {
          "output_type": "stream",
          "name": "stdout",
          "text": [
            "33/33 [==============================] - 5s 155ms/step\n"
          ]
        }
      ]
    },
    {
      "cell_type": "code",
      "source": [
        "y_pred = np.argmax(y_pred, axis = 1)\n",
        "y_test = np.argmax(y_test, axis = 1)"
      ],
      "metadata": {
        "id": "dK_V6X2HwkS2"
      },
      "execution_count": null,
      "outputs": []
    },
    {
      "cell_type": "code",
      "source": [
        "print('Accuracy : ' + str(accuracy_score(y_test, y_pred)))\n",
        "# print(classification_report(y_test, y_pred, target_names = info))\n",
        "print(classification_report(y_test, y_pred))"
      ],
      "metadata": {
        "colab": {
          "base_uri": "https://localhost:8080/"
        },
        "id": "0Ktf_twkwnqk",
        "outputId": "73440db6-b3d4-4bb6-aaee-2e2c7233a61b"
      },
      "execution_count": null,
      "outputs": [
        {
          "output_type": "stream",
          "name": "stdout",
          "text": [
            "Accuracy : 0.9659863945578231\n",
            "              precision    recall  f1-score   support\n",
            "\n",
            "           0       0.94      0.98      0.96       320\n",
            "           1       0.97      0.91      0.94       213\n",
            "           2       0.97      1.00      0.98       295\n",
            "           3       1.00      0.96      0.98       201\n",
            "\n",
            "    accuracy                           0.97      1029\n",
            "   macro avg       0.97      0.96      0.97      1029\n",
            "weighted avg       0.97      0.97      0.97      1029\n",
            "\n"
          ]
        }
      ]
    },
    {
      "cell_type": "code",
      "source": [
        "cm = confusion_matrix(y_test,y_pred)"
      ],
      "metadata": {
        "id": "kpdlebFgwqN2"
      },
      "execution_count": null,
      "outputs": []
    },
    {
      "cell_type": "code",
      "source": [
        "import pandas\n",
        "import seaborn\n",
        "info=['0','1','2','3']\n",
        "plt.figure(figsize = (12,12))\n",
        "ax = seaborn.heatmap(cm, cmap=plt.cm.Blues, annot=True, square=True, xticklabels = info, yticklabels = info)\n",
        "ax.set_ylabel('Actual', fontsize=40)\n",
        "ax.set_xlabel('Predicted', fontsize=40)"
      ],
      "metadata": {
        "colab": {
          "base_uri": "https://localhost:8080/",
          "height": 911
        },
        "id": "AAPg_MLowsYH",
        "outputId": "7ec617c6-7244-45c0-dc56-4becea2d47e1"
      },
      "execution_count": null,
      "outputs": [
        {
          "output_type": "execute_result",
          "data": {
            "text/plain": [
              "Text(0.5, 192.72222222222217, 'Predicted')"
            ]
          },
          "metadata": {},
          "execution_count": 21
        },
        {
          "output_type": "display_data",
          "data": {
            "text/plain": [
              "<Figure size 1200x1200 with 2 Axes>"
            ],
            "image/png": "[encoded data removed]"
          },
          "metadata": {}
        }
      ]
    }
  ]
}