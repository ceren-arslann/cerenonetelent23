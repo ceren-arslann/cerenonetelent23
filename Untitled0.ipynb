{
  "nbformat": 4,
  "nbformat_minor": 0,
  "metadata": {
    "colab": {
      "provenance": [],
      "gpuType": "T4",
      "mount_file_id": "1h5CNpVnPMwlV942W94Zjm9TdjBMmy8MA",
      "authorship_tag": "ABX9TyNSsqME23JDnq0iy5sJz+5z",
      "include_colab_link": true
    },
    "kernelspec": {
      "name": "python3",
      "display_name": "Python 3"
    },
    "language_info": {
      "name": "python"
    },
    "accelerator": "GPU"
  },
  "cells": [
    {
      "cell_type": "markdown",
      "metadata": {
        "id": "view-in-github",
        "colab_type": "text"
      },
      "source": [
        "<a href=\"https://colab.research.google.com/github/xcarslan/cerenonetelent23/blob/main/Untitled0.ipynb\" target=\"_parent\"><img src=\"https://colab.research.google.com/assets/colab-badge.svg\" alt=\"Open In Colab\"/></a>"
      ]
    },
    {
      "cell_type": "markdown",
      "source": [
        "Bu satırlar gerekli kütüphaneleri içe aktarır.\n"
      ],
      "metadata": {
        "id": "jp33Wu6HRmqp"
      }
    },
    {
      "cell_type": "code",
      "source": [
        "import os\n",
        "import random\n",
        "from PIL import Image\n",
        "import numpy as np\n"
      ],
      "metadata": {
        "id": "QuTyIbW-Sk3d"
      },
      "execution_count": 2,
      "outputs": []
    },
    {
      "cell_type": "code",
      "source": [
        "klasor_yollari = [\n",
        "    '/content/drive/MyDrive/Multiple Sclerosis/Control-Axial',\n",
        "    '/content/drive/MyDrive/Multiple Sclerosis/Control-Sagittal',\n",
        "    '/content/drive/MyDrive/Multiple Sclerosis/MS-Axial',\n",
        "    '/content/drive/MyDrive/Multiple Sclerosis/MS-Sagittal'\n",
        "]"
      ],
      "metadata": {
        "id": "-0MMaBABSxpW"
      },
      "execution_count": 3,
      "outputs": []
    },
    {
      "cell_type": "code",
      "source": [
        "veri_setleri = {}\n",
        "for klasor_yolu in klasor_yollari:\n",
        "    dosyalar = [dosya for dosya in os.listdir(klasor_yolu) if dosya.endswith('.png')]\n",
        "    secilen_dosyalar = random.sample(dosyalar, 500)"
      ],
      "metadata": {
        "id": "CLdu8Rw9TUmo"
      },
      "execution_count": 4,
      "outputs": []
    },
    {
      "cell_type": "code",
      "source": [
        "veri_setleri[klasor_yolu] = [np.array(Image.open(os.path.join(klasor_yolu, dosya))) for dosya in secilen_dosyalar]"
      ],
      "metadata": {
        "id": "RloZ7yJETetG"
      },
      "execution_count": 5,
      "outputs": []
    },
    {
      "cell_type": "markdown",
      "source": [
        "PNG formatındaki görüntüler için normalizasyon ve boyut indirgeme işlemleri gerçekleştiriyoruz.\n",
        "\n"
      ],
      "metadata": {
        "id": "QVVbfZlRVWOR"
      }
    },
    {
      "cell_type": "code",
      "source": [
        "for klasor in veri_setleri:\n",
        "    for i, goruntu in enumerate(veri_setleri[klasor]):\n",
        "        # Normalizasyon\n",
        "        goruntu = goruntu / 255.0\n",
        "\n",
        "        veri_setleri[klasor][i] = goruntu"
      ],
      "metadata": {
        "id": "5wvPX3OwVrI1"
      },
      "execution_count": 6,
      "outputs": []
    },
    {
      "cell_type": "code",
      "source": [
        "from skimage.transform import resize\n",
        "\n",
        "for klasor in veri_setleri:\n",
        "    for i, goruntu in enumerate(veri_setleri[klasor]):\n",
        "        # Görüntüyü yeniden boyutlandırma\n",
        "        goruntu = resize(goruntu, (128, 128))\n",
        "\n",
        "        veri_setleri[klasor][i] = goruntu"
      ],
      "metadata": {
        "id": "IwI4-fAhZRz7"
      },
      "execution_count": 7,
      "outputs": []
    }
  ]
}